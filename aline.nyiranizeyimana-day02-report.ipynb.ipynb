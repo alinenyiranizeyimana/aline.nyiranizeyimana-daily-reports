{
 "cells": [
  {
   "cell_type": "markdown",
   "id": "3f7b5fd4-0a94-4810-8474-f960742dcff6",
   "metadata": {},
   "source": [
    "## Strings and files"
   ]
  },
  {
   "cell_type": "code",
   "execution_count": 7,
   "id": "1f6230c3-2987-45a9-9159-1d6304b4d43d",
   "metadata": {},
   "outputs": [
    {
     "name": "stdout",
     "output_type": "stream",
     "text": [
      "Do we have tutorial today?\n",
      "No, we don't have\n"
     ]
    }
   ],
   "source": [
    "string_1 = \"Do we have tutorial today?\"\n",
    "string_2 = \"No, we don't have\"\n",
    "print(string_1)\n",
    "print(string_2)"
   ]
  },
  {
   "cell_type": "markdown",
   "id": "3037dfdd-8bb8-4ed2-b5c0-2b263d523d5a",
   "metadata": {},
   "source": [
    "## Indexing"
   ]
  },
  {
   "cell_type": "code",
   "execution_count": 12,
   "id": "20e7171a-1815-426e-9033-64ad622f010b",
   "metadata": {},
   "outputs": [
    {
     "data": {
      "text/plain": [
       "'D'"
      ]
     },
     "execution_count": 12,
     "metadata": {},
     "output_type": "execute_result"
    }
   ],
   "source": [
    "string_1[0]"
   ]
  },
  {
   "cell_type": "code",
   "execution_count": 13,
   "id": "01c1fc9b-1a5f-4c6f-a2f9-8f4159a75565",
   "metadata": {},
   "outputs": [
    {
     "data": {
      "text/plain": [
       "' '"
      ]
     },
     "execution_count": 13,
     "metadata": {},
     "output_type": "execute_result"
    }
   ],
   "source": [
    "string_1[2]"
   ]
  },
  {
   "cell_type": "code",
   "execution_count": 16,
   "id": "efb1e299-7586-44b4-812a-cce8bd77d5aa",
   "metadata": {},
   "outputs": [
    {
     "name": "stdout",
     "output_type": "stream",
     "text": [
      "Do we have tutorial today?\n"
     ]
    },
    {
     "data": {
      "text/plain": [
       "'?'"
      ]
     },
     "execution_count": 16,
     "metadata": {},
     "output_type": "execute_result"
    }
   ],
   "source": [
    "print(string_1)\n",
    "string_1[-1]"
   ]
  },
  {
   "cell_type": "markdown",
   "id": "d96abc9d-fb91-4efa-a47a-52d7ab28b9b6",
   "metadata": {},
   "source": [
    "## Slicing\n",
    "\n",
    "```python\n",
    "    string[start:stop:step]\n",
    "```"
   ]
  },
  {
   "cell_type": "code",
   "execution_count": 17,
   "id": "9e8d66f0-ceba-4de6-800f-f5bdbdfa1ffa",
   "metadata": {},
   "outputs": [
    {
     "name": "stdout",
     "output_type": "stream",
     "text": [
      "Do we have tutorial today?\n"
     ]
    },
    {
     "data": {
      "text/plain": [
       "' eh'"
      ]
     },
     "execution_count": 17,
     "metadata": {},
     "output_type": "execute_result"
    }
   ],
   "source": [
    "print(string_1)\n",
    "string_1[2:8:2]"
   ]
  },
  {
   "cell_type": "code",
   "execution_count": 18,
   "id": "e693be50-ef8b-4ee8-936a-86171530b568",
   "metadata": {},
   "outputs": [
    {
     "data": {
      "text/plain": [
       "' we ha'"
      ]
     },
     "execution_count": 18,
     "metadata": {},
     "output_type": "execute_result"
    }
   ],
   "source": [
    "string_1[2:8:]"
   ]
  },
  {
   "cell_type": "code",
   "execution_count": 19,
   "id": "c8c82adf-c390-4329-a8ee-17bcfea464da",
   "metadata": {},
   "outputs": [
    {
     "ename": "SyntaxError",
     "evalue": "invalid syntax (35095402.py, line 1)",
     "output_type": "error",
     "traceback": [
      "\u001b[1;36m  Cell \u001b[1;32mIn[19], line 1\u001b[1;36m\u001b[0m\n\u001b[1;33m    string_1[2:8::]\u001b[0m\n\u001b[1;37m                 ^\u001b[0m\n\u001b[1;31mSyntaxError\u001b[0m\u001b[1;31m:\u001b[0m invalid syntax\n"
     ]
    }
   ],
   "source": [
    "string_1[2:8::]"
   ]
  },
  {
   "cell_type": "code",
   "execution_count": 20,
   "id": "318fa9b0-483c-4bf6-8ad5-6e644fb4d747",
   "metadata": {},
   "outputs": [
    {
     "data": {
      "text/plain": [
       "' we ha'"
      ]
     },
     "execution_count": 20,
     "metadata": {},
     "output_type": "execute_result"
    }
   ],
   "source": [
    "string_1[2:8]"
   ]
  },
  {
   "cell_type": "code",
   "execution_count": 21,
   "id": "3829afdb-b699-437c-a466-33a159912704",
   "metadata": {},
   "outputs": [
    {
     "data": {
      "text/plain": [
       "'we have tutorial today?'"
      ]
     },
     "execution_count": 21,
     "metadata": {},
     "output_type": "execute_result"
    }
   ],
   "source": [
    "string_1[3::]"
   ]
  },
  {
   "cell_type": "code",
   "execution_count": 22,
   "id": "6fbd595c-d79d-4ee5-bb96-b60eaaf3ef1b",
   "metadata": {},
   "outputs": [
    {
     "data": {
      "text/plain": [
       "'Do we have tutorial today?'"
      ]
     },
     "execution_count": 22,
     "metadata": {},
     "output_type": "execute_result"
    }
   ],
   "source": [
    "string_1[::]"
   ]
  },
  {
   "cell_type": "code",
   "execution_count": 23,
   "id": "f4cff366-864d-45c9-a59c-6aedf5edd2ae",
   "metadata": {},
   "outputs": [
    {
     "data": {
      "text/plain": [
       "'Do we have tutorial today?'"
      ]
     },
     "execution_count": 23,
     "metadata": {},
     "output_type": "execute_result"
    }
   ],
   "source": [
    "string_1[:]"
   ]
  },
  {
   "cell_type": "code",
   "execution_count": 24,
   "id": "bfd5dbdc-b855-4c01-b68e-3a38e3896deb",
   "metadata": {},
   "outputs": [
    {
     "data": {
      "text/plain": [
       "'Do '"
      ]
     },
     "execution_count": 24,
     "metadata": {},
     "output_type": "execute_result"
    }
   ],
   "source": [
    "string_1[:3]"
   ]
  },
  {
   "cell_type": "code",
   "execution_count": 25,
   "id": "3ff750d8-a2c8-4a4a-93f6-91856a78aef3",
   "metadata": {},
   "outputs": [
    {
     "data": {
      "text/plain": [
       "'Dwheurloy'"
      ]
     },
     "execution_count": 25,
     "metadata": {},
     "output_type": "execute_result"
    }
   ],
   "source": [
    "string_1[::3]"
   ]
  },
  {
   "cell_type": "code",
   "execution_count": 26,
   "id": "594e9a39-0d59-46e0-ad45-0f753d28511a",
   "metadata": {},
   "outputs": [
    {
     "data": {
      "text/plain": [
       "26"
      ]
     },
     "execution_count": 26,
     "metadata": {},
     "output_type": "execute_result"
    }
   ],
   "source": [
    "len(string_1)"
   ]
  },
  {
   "cell_type": "markdown",
   "id": "455ec6ba-d91e-4b84-8c9b-e4ef32370b9c",
   "metadata": {},
   "source": [
    "## Concatenation"
   ]
  },
  {
   "cell_type": "code",
   "execution_count": 28,
   "id": "ecefe5dd-90da-46cb-954a-f97a08454af5",
   "metadata": {},
   "outputs": [
    {
     "data": {
      "text/plain": [
       "'Hello world!'"
      ]
     },
     "execution_count": 28,
     "metadata": {},
     "output_type": "execute_result"
    }
   ],
   "source": [
    "var_1 = \"Hello\"\n",
    "var_2 = \"world!\"\n",
    "\n",
    "concat =  var_1 + \" \" +var_2\n",
    "concat"
   ]
  },
  {
   "cell_type": "code",
   "execution_count": 29,
   "id": "8fedcb14-7012-49f0-b871-fcd0fddd8907",
   "metadata": {},
   "outputs": [
    {
     "name": "stdout",
     "output_type": "stream",
     "text": [
      "HelloHello\n"
     ]
    }
   ],
   "source": [
    "print(2*var_1)"
   ]
  },
  {
   "cell_type": "code",
   "execution_count": 30,
   "id": "32ef69d3-742b-4588-8180-e563bb1afb5e",
   "metadata": {},
   "outputs": [
    {
     "name": "stdout",
     "output_type": "stream",
     "text": [
      "HelloHello\n"
     ]
    }
   ],
   "source": [
    "print(var_1*2)"
   ]
  },
  {
   "cell_type": "code",
   "execution_count": 31,
   "id": "b44b5222-ae35-422e-8e61-3c36780c8900",
   "metadata": {},
   "outputs": [
    {
     "ename": "TypeError",
     "evalue": "can't multiply sequence by non-int of type 'float'",
     "output_type": "error",
     "traceback": [
      "\u001b[1;31m---------------------------------------------------------------------------\u001b[0m",
      "\u001b[1;31mTypeError\u001b[0m                                 Traceback (most recent call last)",
      "Cell \u001b[1;32mIn[31], line 1\u001b[0m\n\u001b[1;32m----> 1\u001b[0m \u001b[38;5;28mprint\u001b[39m(var_1\u001b[38;5;241m*\u001b[39m\u001b[38;5;241m2.5\u001b[39m)\n",
      "\u001b[1;31mTypeError\u001b[0m: can't multiply sequence by non-int of type 'float'"
     ]
    }
   ],
   "source": [
    "print(var_1*2.5)"
   ]
  },
  {
   "cell_type": "code",
   "execution_count": 32,
   "id": "1e387914-5e2d-4500-9d3e-9952a6a047b8",
   "metadata": {},
   "outputs": [
    {
     "data": {
      "text/plain": [
       "6"
      ]
     },
     "execution_count": 32,
     "metadata": {},
     "output_type": "execute_result"
    }
   ],
   "source": [
    "2*3"
   ]
  },
  {
   "cell_type": "code",
   "execution_count": 34,
   "id": "ea581130-aa83-442f-ac36-98c63f75e269",
   "metadata": {},
   "outputs": [
    {
     "ename": "TypeError",
     "evalue": "can't multiply sequence by non-int of type 'float'",
     "output_type": "error",
     "traceback": [
      "\u001b[1;31m---------------------------------------------------------------------------\u001b[0m",
      "\u001b[1;31mTypeError\u001b[0m                                 Traceback (most recent call last)",
      "Cell \u001b[1;32mIn[34], line 1\u001b[0m\n\u001b[1;32m----> 1\u001b[0m \u001b[38;5;124m\"\u001b[39m\u001b[38;5;124m2\u001b[39m\u001b[38;5;124m\"\u001b[39m\u001b[38;5;241m*\u001b[39m\u001b[38;5;241m3.0\u001b[39m\n",
      "\u001b[1;31mTypeError\u001b[0m: can't multiply sequence by non-int of type 'float'"
     ]
    }
   ],
   "source": [
    "\"2\"*3.0\n"
   ]
  },
  {
   "cell_type": "code",
   "execution_count": 39,
   "id": "12b02d2a-9088-4413-b1a2-8c5354221841",
   "metadata": {},
   "outputs": [
    {
     "name": "stdout",
     "output_type": "stream",
     "text": [
      "What happens after applying the function on it\n",
      "\n"
     ]
    },
    {
     "data": {
      "text/plain": [
       "\u001b[1;31mSignature:\u001b[0m \u001b[0mapply_method\u001b[0m\u001b[1;33m.\u001b[0m\u001b[0mcapitalize\u001b[0m\u001b[1;33m(\u001b[0m\u001b[1;33m)\u001b[0m\u001b[1;33m\u001b[0m\u001b[1;33m\u001b[0m\u001b[0m\n",
       "\u001b[1;31mDocstring:\u001b[0m\n",
       "Return a capitalized version of the string.\n",
       "\n",
       "More specifically, make the first character have upper case and the rest lower\n",
       "case.\n",
       "\u001b[1;31mType:\u001b[0m      builtin_function_or_method"
      ]
     },
     "metadata": {},
     "output_type": "display_data"
    }
   ],
   "source": [
    "apply_method = \"What happens after applying the function on it\"\n",
    "print(apply_method.capitalize()+\"\\n\")\n",
    "?apply_method.capitalize"
   ]
  },
  {
   "cell_type": "code",
   "execution_count": 41,
   "id": "96fdfbf7-bd3a-4c3c-9f05-e458f158efc4",
   "metadata": {},
   "outputs": [
    {
     "data": {
      "text/plain": [
       "'what happens after applying the function on it'"
      ]
     },
     "execution_count": 41,
     "metadata": {},
     "output_type": "execute_result"
    }
   ],
   "source": [
    "apply_method.casefold()"
   ]
  },
  {
   "cell_type": "code",
   "execution_count": 47,
   "id": "7329dbff-b5e8-419a-8003-395c2bea9dfa",
   "metadata": {},
   "outputs": [
    {
     "data": {
      "text/plain": [
       "'************What happens after applying the function on it************'"
      ]
     },
     "execution_count": 47,
     "metadata": {},
     "output_type": "execute_result"
    }
   ],
   "source": [
    "apply_method.center(70,\"*\")"
   ]
  },
  {
   "cell_type": "code",
   "execution_count": 51,
   "id": "0fb2c8e3-6614-4d31-96ed-4acd857faa9d",
   "metadata": {},
   "outputs": [
    {
     "name": "stdout",
     "output_type": "stream",
     "text": [
      "Help on built-in function count:\n",
      "\n",
      "count(...) method of builtins.str instance\n",
      "    S.count(sub[, start[, end]]) -> int\n",
      "    \n",
      "    Return the number of non-overlapping occurrences of substring sub in\n",
      "    string S[start:end].  Optional arguments start and end are\n",
      "    interpreted as in slice notation.\n",
      "\n"
     ]
    }
   ],
   "source": [
    "help(apply_method.count)"
   ]
  },
  {
   "cell_type": "code",
   "execution_count": 57,
   "id": "ede3160d-72e9-45ec-9fcb-34691405131e",
   "metadata": {},
   "outputs": [
    {
     "data": {
      "text/plain": [
       "'------------What happens after applying the function on it------------'"
      ]
     },
     "execution_count": 57,
     "metadata": {},
     "output_type": "execute_result"
    }
   ],
   "source": [
    "apply_method.center(70,\"-\")"
   ]
  },
  {
   "cell_type": "code",
   "execution_count": 61,
   "id": "e4a950cd-4642-40d3-9f04-e4ed4b9ac003",
   "metadata": {},
   "outputs": [
    {
     "data": {
      "text/plain": [
       "4"
      ]
     },
     "execution_count": 61,
     "metadata": {},
     "output_type": "execute_result"
    }
   ],
   "source": [
    "apply_method.count(\"a\")"
   ]
  },
  {
   "cell_type": "code",
   "execution_count": 62,
   "id": "79cd573f-c3d3-4670-afc8-b136eedd0e8f",
   "metadata": {},
   "outputs": [
    {
     "data": {
      "text/plain": [
       "2"
      ]
     },
     "execution_count": 62,
     "metadata": {},
     "output_type": "execute_result"
    }
   ],
   "source": [
    "apply_method.count(\"app\")"
   ]
  },
  {
   "cell_type": "code",
   "execution_count": 67,
   "id": "22004faf-68d9-4c8d-8191-7ff415122b95",
   "metadata": {},
   "outputs": [
    {
     "data": {
      "text/plain": [
       "0"
      ]
     },
     "execution_count": 67,
     "metadata": {},
     "output_type": "execute_result"
    }
   ],
   "source": [
    "apply_method.count(\"app\", 3,7)"
   ]
  },
  {
   "cell_type": "code",
   "execution_count": 82,
   "id": "34f74673-3a1c-403d-971f-92e5b934d98b",
   "metadata": {},
   "outputs": [
    {
     "data": {
      "text/plain": [
       "bytes"
      ]
     },
     "execution_count": 82,
     "metadata": {},
     "output_type": "execute_result"
    }
   ],
   "source": [
    "string = \"29\"\n",
    "string= string.encode(encoding=\"ascii\")\n",
    "type(string)"
   ]
  },
  {
   "cell_type": "code",
   "execution_count": 87,
   "id": "b2fd0cda-84a1-4dbc-b72f-92eb117fe445",
   "metadata": {},
   "outputs": [
    {
     "data": {
      "text/plain": [
       "False"
      ]
     },
     "execution_count": 87,
     "metadata": {},
     "output_type": "execute_result"
    }
   ],
   "source": [
    "apply_method.endswith(\"y\")\n"
   ]
  },
  {
   "cell_type": "code",
   "execution_count": 89,
   "id": "0f82ae09-c4b9-4956-bf5c-76ce3e523c1d",
   "metadata": {},
   "outputs": [
    {
     "name": "stdout",
     "output_type": "stream",
     "text": [
      "What happens after applying the function on it\n"
     ]
    },
    {
     "data": {
      "text/plain": [
       "True"
      ]
     },
     "execution_count": 89,
     "metadata": {},
     "output_type": "execute_result"
    }
   ],
   "source": [
    "print(apply_method)\n",
    "apply_method.endswith(\"t\")"
   ]
  },
  {
   "cell_type": "code",
   "execution_count": 94,
   "id": "e6449d78-4e72-40be-a37f-0c40f23f5368",
   "metadata": {},
   "outputs": [
    {
     "data": {
      "text/plain": [
       "'What happens after applying the function on it'"
      ]
     },
     "execution_count": 94,
     "metadata": {},
     "output_type": "execute_result"
    }
   ],
   "source": [
    "#apply_method.expandtabs(0)\n"
   ]
  },
  {
   "cell_type": "code",
   "execution_count": 5,
   "id": "4207be7e-9c35-48b4-8838-9ee8add5882b",
   "metadata": {},
   "outputs": [
    {
     "name": "stdout",
     "output_type": "stream",
     "text": [
      " Volume in drive C is Windows-SSD\n",
      " Volume Serial Number is 322C-BB65\n",
      "\n",
      " Directory of C:\\Users\\user\\Desktop\\python_course\\notebooks_lecture_notes\n",
      "\n",
      "09/25/2025  12:24 PM    <DIR>          .\n",
      "09/23/2025  10:35 AM    <DIR>          ..\n",
      "09/25/2025  12:15 PM    <DIR>          .ipynb_checkpoints\n",
      "09/25/2025  10:17 AM            57,027 aline.nyiranizeyimana-day00-report.ipynb.ipynb\n",
      "09/24/2025  09:02 PM            86,960 aline.nyiranizeyimana-day01b-report.ipynb.ipynb\n",
      "09/23/2025  10:36 AM             6,021 command_mode.png\n",
      "09/25/2025  12:24 PM            17,888 day03.ipynb\n",
      "09/23/2025  10:36 AM             6,030 edit_mode.png\n",
      "09/23/2025  10:36 AM           194,094 Emily.png\n",
      "09/24/2025  10:13 PM                65 example.txt\n",
      "09/24/2025  10:14 PM             7,626 hello.ipynb\n",
      "09/23/2025  10:36 AM            17,311 menubar_toolbar.png\n",
      "09/24/2025  09:19 PM            88,606 PyPro-SCiDaS-day_01a_introduction_to_python.ipynb\n",
      "09/25/2025  12:17 PM                72 testfile.txt\n",
      "              11 File(s)        481,700 bytes\n",
      "               3 Dir(s)  13,974,679,552 bytes free\n"
     ]
    }
   ],
   "source": [
    "! dir"
   ]
  },
  {
   "cell_type": "code",
   "execution_count": 3,
   "id": "2efdaf00-12fb-4e3f-a835-ec260b8acb91",
   "metadata": {},
   "outputs": [],
   "source": [
    "# %load testfile.txt\n",
    "Hello, how are you doing.\n",
    "\n",
    "This is Aims class\n",
    "Rwanda 2025\n",
    "\n",
    "Tha's amazing"
   ]
  },
  {
   "cell_type": "code",
   "execution_count": 10,
   "id": "a59f3793-b907-4434-8398-26c8b3b5dbee",
   "metadata": {},
   "outputs": [
    {
     "data": {
      "text/plain": [
       "\"Hello, how are you doing.\\n\\nThis is Aims class\\nRwanda 2025\\n\\nTha's amazing\""
      ]
     },
     "execution_count": 10,
     "metadata": {},
     "output_type": "execute_result"
    }
   ],
   "source": [
    "file_rw = open('testfile.txt',\"r\")\n",
    "type(file_rw)\n",
    "file_rw.read()"
   ]
  },
  {
   "cell_type": "code",
   "execution_count": 11,
   "id": "6ee846dd-20b8-4842-95b2-5f2b1d2f35b6",
   "metadata": {},
   "outputs": [],
   "source": [
    "file_rw.close()"
   ]
  },
  {
   "cell_type": "code",
   "execution_count": 12,
   "id": "5eda3bc2-d941-49cd-97ca-bd89f5b7672d",
   "metadata": {},
   "outputs": [
    {
     "ename": "ValueError",
     "evalue": "I/O operation on closed file.",
     "output_type": "error",
     "traceback": [
      "\u001b[1;31m---------------------------------------------------------------------------\u001b[0m",
      "\u001b[1;31mValueError\u001b[0m                                Traceback (most recent call last)",
      "Cell \u001b[1;32mIn[12], line 1\u001b[0m\n\u001b[1;32m----> 1\u001b[0m file_rw\u001b[38;5;241m.\u001b[39mread()\n",
      "\u001b[1;31mValueError\u001b[0m: I/O operation on closed file."
     ]
    }
   ],
   "source": [
    "file_rw.read()"
   ]
  },
  {
   "cell_type": "code",
   "execution_count": 28,
   "id": "30cefa58-ceca-4763-adc5-c059063c7ae0",
   "metadata": {},
   "outputs": [],
   "source": [
    "file_write = open('testfile.txt',\"w\")\n",
    "file_write.write(\"Hello this overwrite\\n\")\n",
    "file_write.write(\"second line\")\n",
    "file_write.close()"
   ]
  },
  {
   "cell_type": "code",
   "execution_count": 29,
   "id": "9fa8c55b-2114-49e4-b9dd-323d0e4c45ff",
   "metadata": {},
   "outputs": [
    {
     "data": {
      "text/plain": [
       "['Hello this overwrite\\n', 'second line']"
      ]
     },
     "execution_count": 29,
     "metadata": {},
     "output_type": "execute_result"
    }
   ],
   "source": [
    "file_rw = open('testfile.txt',\"r\")\n",
    "file_rw.readlines()"
   ]
  },
  {
   "cell_type": "code",
   "execution_count": null,
   "id": "373de199-518a-4f94-9ac9-ed97cb0fccca",
   "metadata": {},
   "outputs": [],
   "source": []
  }
 ],
 "metadata": {
  "kernelspec": {
   "display_name": "Python 3 (ipykernel)",
   "language": "python",
   "name": "python3"
  },
  "language_info": {
   "codemirror_mode": {
    "name": "ipython",
    "version": 3
   },
   "file_extension": ".py",
   "mimetype": "text/x-python",
   "name": "python",
   "nbconvert_exporter": "python",
   "pygments_lexer": "ipython3",
   "version": "3.11.7"
  }
 },
 "nbformat": 4,
 "nbformat_minor": 5
}
