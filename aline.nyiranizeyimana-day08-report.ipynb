{
 "cells": [
  {
   "cell_type": "markdown",
   "id": "1a596742-afea-45f8-8d77-edf694a41d5c",
   "metadata": {},
   "source": [
    "## Recursive function\n",
    "\n",
    "$$n! = n(n-1)!$$"
   ]
  },
  {
   "cell_type": "code",
   "execution_count": 2,
   "id": "03d2be8f-1505-4d7c-84ad-7e988729364a",
   "metadata": {},
   "outputs": [
    {
     "name": "stdout",
     "output_type": "stream",
     "text": [
      "720\n"
     ]
    }
   ],
   "source": [
    "def factorial(n):\n",
    "    if n<= 1 and n>=0:\n",
    "        return 1\n",
    "    return n*factorial(n-1)\n",
    "    \n",
    "print(factorial(6))"
   ]
  },
  {
   "cell_type": "markdown",
   "id": "315c1b4b-dd35-4303-91ef-a58a892225a2",
   "metadata": {},
   "source": [
    "## Fibonnacci sequence\n",
    "\n",
    "$$f(0) = 0, f(1) = 1, f(n) = f(n-1) + f(n-2) \\quad n>1$$\n"
   ]
  },
  {
   "cell_type": "code",
   "execution_count": 9,
   "id": "abf9ecfa-cb38-4f44-8d2a-ef249bf5705a",
   "metadata": {},
   "outputs": [
    {
     "name": "stdout",
     "output_type": "stream",
     "text": [
      "0 1 1 2 3 "
     ]
    }
   ],
   "source": [
    "def fibonnacci(n):\n",
    "    if n== 0:\n",
    "        return 0\n",
    "    elif n ==1 :\n",
    "        return 1\n",
    "    elif n<0:\n",
    "        return fibonnacci(n-1)+fibonnacci(n-2)\n",
    "        \n",
    "    else:\n",
    "        return fibonnacci(n-1)+fibonnacci(n-2)\n",
    "\n",
    "for i in range(5):\n",
    "    print(fibonnacci(i), end=' ')\n"
   ]
  },
  {
   "cell_type": "markdown",
   "id": "fc68a8f5-6047-4b25-9d95-206e051da8b0",
   "metadata": {},
   "source": [
    "## Lambda function"
   ]
  },
  {
   "cell_type": "code",
   "execution_count": 3,
   "id": "5f1132bd-8df2-490e-90e6-27b66b973d24",
   "metadata": {},
   "outputs": [
    {
     "name": "stdout",
     "output_type": "stream",
     "text": [
      "81\n"
     ]
    }
   ],
   "source": [
    "def power(n):\n",
    "    return lambda x: x**n\n",
    "\n",
    "square_fn = power(2)\n",
    "print(square_fn(9))"
   ]
  },
  {
   "cell_type": "markdown",
   "id": "cdfab22a-f697-4865-bf40-0c09fbd8cb07",
   "metadata": {},
   "source": [
    "# Challenges"
   ]
  },
  {
   "cell_type": "markdown",
   "id": "2d0db98b-9f8a-49f2-9f5a-1e0311219afe",
   "metadata": {},
   "source": [
    "Greater"
   ]
  },
  {
   "cell_type": "code",
   "execution_count": 5,
   "id": "039ba35a-e01b-4115-a4b9-f65cc4dbbd8c",
   "metadata": {},
   "outputs": [
    {
     "name": "stdout",
     "output_type": "stream",
     "text": [
      "3 is greater\n"
     ]
    }
   ],
   "source": [
    "def find_max(num1, num2):\n",
    "    if (num1 > num2 ):\n",
    "        print(f\"{num1} is greater\")\n",
    "    else:\n",
    "        print(f\"{num2} is greater\")\n",
    "\n",
    "find_max(2,3)"
   ]
  }
 ],
 "metadata": {
  "kernelspec": {
   "display_name": "Python 3 (ipykernel)",
   "language": "python",
   "name": "python3"
  },
  "language_info": {
   "codemirror_mode": {
    "name": "ipython",
    "version": 3
   },
   "file_extension": ".py",
   "mimetype": "text/x-python",
   "name": "python",
   "nbconvert_exporter": "python",
   "pygments_lexer": "ipython3",
   "version": "3.11.7"
  }
 },
 "nbformat": 4,
 "nbformat_minor": 5
}
