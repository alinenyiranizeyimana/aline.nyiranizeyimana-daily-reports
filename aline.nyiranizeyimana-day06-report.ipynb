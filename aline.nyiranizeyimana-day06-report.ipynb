{
 "cells": [
  {
   "cell_type": "markdown",
   "id": "734ef7be-4e67-4b35-af94-3465b3337198",
   "metadata": {},
   "source": [
    "## Flow Control"
   ]
  },
  {
   "cell_type": "markdown",
   "id": "33de8821-ee8c-4e4a-a704-25c8cdfa6aa3",
   "metadata": {},
   "source": [
    "### 1. If clause"
   ]
  },
  {
   "cell_type": "code",
   "execution_count": 7,
   "id": "1374d11c-611c-4758-b325-8dd64d17ec12",
   "metadata": {},
   "outputs": [
    {
     "name": "stdout",
     "output_type": "stream",
     "text": [
      "25\n"
     ]
    }
   ],
   "source": [
    "a= 25\n",
    "print(a)\n"
   ]
  },
  {
   "cell_type": "markdown",
   "id": "3683d1aa-0862-4546-84f0-1a8668b1ceaa",
   "metadata": {},
   "source": [
    "if...elif...else\n",
    "\n",
    "```python\n",
    "if ....:\n",
    "    statement 1; \n",
    "\n",
    "elif .....:\n",
    "    statemennt 3;\n",
    "\n",
    "else:\n",
    "    statement 2;\n",
    "\n",
    "```"
   ]
  },
  {
   "cell_type": "code",
   "execution_count": 9,
   "id": "4dc92c38-0a37-438a-b18a-15a8c198a4ee",
   "metadata": {},
   "outputs": [
    {
     "name": "stdout",
     "output_type": "stream",
     "text": [
      "a is equal to 25\n"
     ]
    }
   ],
   "source": [
    "if(a>25):\n",
    "    print(\"a is larger\")\n",
    "elif a<25:\n",
    "    print(\"a is small\")\n",
    "else:\n",
    "    print(\"a is equal to 25\")\n",
    "\n"
   ]
  },
  {
   "cell_type": "code",
   "execution_count": 14,
   "id": "8904467a-10f0-4624-97f9-c376253c3dd7",
   "metadata": {},
   "outputs": [
    {
     "name": "stdout",
     "output_type": "stream",
     "text": [
      "equal\n"
     ]
    }
   ],
   "source": [
    "if a>25 and a<25:\n",
    "    print(\"a is larger\") \n",
    "else:\n",
    "    print(\"equal\")"
   ]
  },
  {
   "cell_type": "markdown",
   "id": "1a5d1d22-1183-4100-9076-db94af809ee1",
   "metadata": {},
   "source": [
    "### Nested clauses\n",
    "```python\n",
    "if ....:\n",
    "    statement1;\n",
    "    if ....:\n",
    "        statement 2;\n",
    "    else:\n",
    "       statement 3;\n",
    "\n",
    "else:\n",
    "  final statement;\n",
    "```"
   ]
  },
  {
   "cell_type": "code",
   "execution_count": 17,
   "id": "8400ffa2-cf41-4636-947b-f8b0f717714b",
   "metadata": {},
   "outputs": [
    {
     "name": "stdout",
     "output_type": "stream",
     "text": [
      "a is greater than b\n",
      "The difference is positive: 19\n"
     ]
    }
   ],
   "source": [
    "a= 20\n",
    "b= 1\n",
    "\n",
    "if (a>b):\n",
    "    print(\"a is greater than b\")\n",
    "    if(a-b > 0):      \n",
    "        print(\"The difference is positive:\", a-b)\n",
    "    else:\n",
    "        print(\"It is negative\")\n",
    "else:\n",
    "    print(\"b is greater than a\")\n",
    "    \n",
    "  "
   ]
  },
  {
   "cell_type": "markdown",
   "id": "850a66a8-9ab8-4a30-bcc3-8c09964d43a6",
   "metadata": {},
   "source": [
    "###  Quadratic equation\n",
    "\n",
    "$$ax^2 +bx+c$$"
   ]
  },
  {
   "cell_type": "code",
   "execution_count": 45,
   "id": "cac6571b-11a0-405a-9942-ef62daf2ee79",
   "metadata": {},
   "outputs": [
    {
     "name": "stdin",
     "output_type": "stream",
     "text": [
      "enter a cofficient of x^2: 1\n",
      "enter b cofficient of x: 2\n",
      "enter c a constant 3\n"
     ]
    },
    {
     "name": "stdout",
     "output_type": "stream",
     "text": [
      " we have a complex root\n",
      "The complex roots are: (-1+1.4142135623730951j) and (-1-1.4142135623730951j)\n"
     ]
    }
   ],
   "source": [
    "import math\n",
    "a=int(input(\"enter a cofficient of x^2:\"))\n",
    "b=int(input(\"enter b cofficient of x:\"))\n",
    "c=int(input(\"enter c a constant\"))\n",
    "\n",
    "delta = b**2 - 4*a*c\n",
    "\n",
    "if a != 0:\n",
    "    if delta >= 0:\n",
    "        delta = math.sqrt(delta)\n",
    "        x1= (-b + delta)/ 2* a\n",
    "        x2= (-b - delta)/ 2* a\n",
    "        print(\"The roots are:\", x1, \"and\", x2)\n",
    "    else:\n",
    "        delta = math.sqrt(-delta)\n",
    "        print(\" we have a complex root\")\n",
    "\n",
    "        x1 = complex((-b/2*a), delta/2*a)\n",
    "        x2 = complex((-b/2*a), -delta/2*a)\n",
    "        print(\"The complex roots are:\", x1, \"and\", x2)\n",
    "\n",
    "else:\n",
    "    print(\"The function is not a quadratic function\")\n"
   ]
  },
  {
   "cell_type": "code",
   "execution_count": 20,
   "id": "1ef411af-681d-4a78-a70b-98469d1e3b44",
   "metadata": {},
   "outputs": [
    {
     "data": {
      "text/plain": [
       "True"
      ]
     },
     "execution_count": 20,
     "metadata": {},
     "output_type": "execute_result"
    }
   ],
   "source": [
    "a != 2"
   ]
  },
  {
   "cell_type": "code",
   "execution_count": 46,
   "id": "8f7b06d6-29f1-4090-b5b2-79bcf2554dac",
   "metadata": {},
   "outputs": [
    {
     "data": {
      "text/plain": [
       "(7+2j)"
      ]
     },
     "execution_count": 46,
     "metadata": {},
     "output_type": "execute_result"
    }
   ],
   "source": [
    "a= 7\n",
    "a+ 2j"
   ]
  },
  {
   "cell_type": "markdown",
   "id": "8ff69257-ca10-42a9-8922-641e2eb437d4",
   "metadata": {},
   "source": [
    "To refer to a variable you have multiply it with 1 if you don't put 1 it will give an erro"
   ]
  },
  {
   "cell_type": "code",
   "execution_count": 66,
   "id": "179834db-becc-4284-aa27-09f99c04621d",
   "metadata": {},
   "outputs": [
    {
     "data": {
      "text/plain": [
       "(2+4j)"
      ]
     },
     "execution_count": 66,
     "metadata": {},
     "output_type": "execute_result"
    }
   ],
   "source": [
    "a= 4\n",
    "2+ a* 1j r"
   ]
  },
  {
   "cell_type": "markdown",
   "id": "bba967c9-03d0-4dd4-bbad-f2b481af40dc",
   "metadata": {},
   "source": [
    "### While loop "
   ]
  },
  {
   "cell_type": "code",
   "execution_count": 63,
   "id": "19d13262-aa06-4189-9afe-c1d067035054",
   "metadata": {},
   "outputs": [
    {
     "name": "stdout",
     "output_type": "stream",
     "text": [
      "1\n",
      "2\n",
      "3\n",
      "4\n",
      "5\n",
      "6\n",
      "7\n",
      "8\n",
      "9\n"
     ]
    }
   ],
   "source": [
    "i=1\n",
    "while(i<10):\n",
    "    print(i)\n",
    "    #i += 1 #no space between + and =\n",
    "    #i++ error in python we don't have increment ++ or --\n",
    "    i = i+1 "
   ]
  },
  {
   "cell_type": "markdown",
   "id": "a54a8574-3ad7-46f6-af84-82a7583b7556",
   "metadata": {},
   "source": [
    "Application: finding roots while comparing it to error (epslon)"
   ]
  },
  {
   "cell_type": "markdown",
   "id": "a6cc9ff0-f212-4e54-8f23-fd5fadc90439",
   "metadata": {},
   "source": [
    "### For loop"
   ]
  },
  {
   "cell_type": "code",
   "execution_count": 70,
   "id": "8717a93c-908a-47bd-9dcc-80b6e65bd93d",
   "metadata": {},
   "outputs": [
    {
     "name": "stdout",
     "output_type": "stream",
     "text": [
      "1\n",
      "3\n",
      "5\n",
      "7\n",
      "9\n"
     ]
    }
   ],
   "source": [
    "n= 10\n",
    "for i in range(1,n,2):\n",
    "    print(i)"
   ]
  },
  {
   "cell_type": "code",
   "execution_count": 82,
   "id": "49e730bb-9c38-487f-8a60-4682ba751ebd",
   "metadata": {},
   "outputs": [
    {
     "name": "stdout",
     "output_type": "stream",
     "text": [
      "try more time\n",
      "we found it it is on index:1\n",
      "try more time\n",
      "try more time\n"
     ]
    }
   ],
   "source": [
    "list1 =[3,5,'hello',98]\n",
    "# for i in list1: to print value , index we add enumerate\n",
    "for index, i in enumerate(list1):\n",
    "    if i == 5:\n",
    "        print(f\"we found it it is on index:{index}\")\n",
    "    else:\n",
    "        print(\"try more time\")"
   ]
  },
  {
   "cell_type": "code",
   "execution_count": 79,
   "id": "406f95a5-c34f-4780-b8b4-f5de97b0019b",
   "metadata": {},
   "outputs": [
    {
     "name": "stdout",
     "output_type": "stream",
     "text": [
      "We have space\n",
      "T it is not in a string comparison\n",
      "The char h is a vowel\n",
      "The char i is a vowel\n",
      "s it is not in a string comparison\n",
      "We have space\n",
      "The char i is a vowel\n",
      "s it is not in a string comparison\n",
      "We have space\n",
      "The char p is a vowel\n",
      "y it is not in a string comparison\n",
      "t it is not in a string comparison\n",
      "The char h is a vowel\n",
      "The char o is a vowel\n",
      "The char n is a vowel\n",
      "We have space\n",
      "The char c is a vowel\n",
      "l it is not in a string comparison\n",
      "The char a is a vowel\n",
      "s it is not in a string comparison\n",
      "s it is not in a string comparison\n",
      "We have space\n",
      "The char i is a vowel\n",
      "The char n is a vowel\n",
      "We have space\n",
      "A it is not in a string comparison\n",
      "I it is not in a string comparison\n",
      "M it is not in a string comparison\n",
      "S it is not in a string comparison\n",
      "We have space\n",
      "R it is not in a string comparison\n",
      "W it is not in a string comparison\n",
      "A it is not in a string comparison\n",
      "N it is not in a string comparison\n",
      "D it is not in a string comparison\n",
      "A it is not in a string comparison\n"
     ]
    }
   ],
   "source": [
    "sentence = \" This is python class in AIMS RWANDA\"\n",
    "for char in sentence:\n",
    "    if char in \"abcddefghiijknop\":\n",
    "        print(\"The char\", char, \"is a vowel\")\n",
    "    elif char == \" \" :\n",
    "        print (\"We have space\")\n",
    "    else:\n",
    "        print(char ,\"it is not in a string comparison\")\n",
    "        "
   ]
  },
  {
   "cell_type": "code",
   "execution_count": null,
   "id": "b22efb2a-2141-4922-bf06-39821e9703c8",
   "metadata": {},
   "outputs": [],
   "source": [
    "import "
   ]
  }
 ],
 "metadata": {
  "kernelspec": {
   "display_name": "Python 3 (ipykernel)",
   "language": "python",
   "name": "python3"
  },
  "language_info": {
   "codemirror_mode": {
    "name": "ipython",
    "version": 3
   },
   "file_extension": ".py",
   "mimetype": "text/x-python",
   "name": "python",
   "nbconvert_exporter": "python",
   "pygments_lexer": "ipython3",
   "version": "3.11.7"
  }
 },
 "nbformat": 4,
 "nbformat_minor": 5
}
