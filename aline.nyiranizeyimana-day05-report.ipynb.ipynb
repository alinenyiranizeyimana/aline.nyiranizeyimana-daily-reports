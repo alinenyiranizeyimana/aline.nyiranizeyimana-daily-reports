{
 "cells": [
  {
   "cell_type": "markdown",
   "id": "3f857186-a276-4593-84bb-28846c68f4b7",
   "metadata": {},
   "source": [
    "## List"
   ]
  },
  {
   "cell_type": "code",
   "execution_count": 23,
   "id": "1b801b71-1e41-4322-bcfe-e037d238be70",
   "metadata": {},
   "outputs": [
    {
     "name": "stdout",
     "output_type": "stream",
     "text": [
      "[1, 5, 3]\n",
      "<class 'list'>\n"
     ]
    }
   ],
   "source": [
    "list1 = [1,2,3]\n",
    "list1[1] = 5\n",
    "print(list1)\n",
    "print(type(list1))"
   ]
  },
  {
   "cell_type": "code",
   "execution_count": 5,
   "id": "04bb2148-96dd-49de-8868-b35f64ce53f8",
   "metadata": {},
   "outputs": [
    {
     "name": "stdout",
     "output_type": "stream",
     "text": [
      "[1, 2, 3, 4, 5, 6, 7, 8, 9]\n"
     ]
    }
   ],
   "source": [
    "print(list(range(1,10)))"
   ]
  },
  {
   "cell_type": "markdown",
   "id": "dbd35b13-69fa-4534-a630-9c9a3a038203",
   "metadata": {},
   "source": [
    "## Tuple"
   ]
  },
  {
   "cell_type": "code",
   "execution_count": 24,
   "id": "66fb081b-3c8c-429f-80f6-81c22fd23254",
   "metadata": {},
   "outputs": [
    {
     "ename": "TypeError",
     "evalue": "'tuple' object does not support item assignment",
     "output_type": "error",
     "traceback": [
      "\u001b[1;31m----------------------------------------------------------------\u001b[0m",
      "\u001b[1;31mTypeError\u001b[0m                      Traceback (most recent call last)",
      "Cell \u001b[1;32mIn[24], line 2\u001b[0m\n\u001b[0;32m      1\u001b[0m x\u001b[38;5;241m=\u001b[39m (\u001b[38;5;241m1\u001b[39m,\u001b[38;5;241m1\u001b[39m,\u001b[38;5;241m2\u001b[39m,\u001b[38;5;241m1\u001b[39m,\u001b[38;5;241m4\u001b[39m,\u001b[38;5;241m3\u001b[39m)\n\u001b[1;32m----> 2\u001b[0m x[\u001b[38;5;241m3\u001b[39m]\u001b[38;5;241m=\u001b[39m\u001b[38;5;241m10\u001b[39m\n",
      "\u001b[1;31mTypeError\u001b[0m: 'tuple' object does not support item assignment"
     ]
    }
   ],
   "source": [
    "x= (1,1,2,1,4,3)\n",
    "x[3]=10\n"
   ]
  },
  {
   "cell_type": "markdown",
   "id": "edcdab14-4c15-47f4-9211-8c06b4ad5559",
   "metadata": {},
   "source": [
    "## Multidimensional list"
   ]
  },
  {
   "cell_type": "code",
   "execution_count": 30,
   "id": "847808f6-b1ac-4246-a0ef-b95c19a9853e",
   "metadata": {},
   "outputs": [
    {
     "data": {
      "text/plain": [
       "[1, 3]"
      ]
     },
     "execution_count": 30,
     "metadata": {},
     "output_type": "execute_result"
    }
   ],
   "source": [
    "x= [[1,3],[2,4]]\n",
    "x[0]"
   ]
  },
  {
   "cell_type": "code",
   "execution_count": 32,
   "id": "7682587a-3f4d-4f63-8143-d1065fe6a29a",
   "metadata": {},
   "outputs": [
    {
     "data": {
      "text/plain": [
       "[[2, 4], [1, 3]]"
      ]
     },
     "execution_count": 32,
     "metadata": {},
     "output_type": "execute_result"
    }
   ],
   "source": [
    "x[::-1] #reverse"
   ]
  },
  {
   "cell_type": "code",
   "execution_count": 36,
   "id": "433ba34b-ff1f-4e0b-a23d-c0119107af22",
   "metadata": {},
   "outputs": [
    {
     "name": "stdout",
     "output_type": "stream",
     "text": [
      "<class 'list'>\n",
      "4\n"
     ]
    }
   ],
   "source": [
    "# values in a sublist\n",
    "x= [[1,3],[2,4]]\n",
    "print(type(x))\n",
    "print(x[1][1])"
   ]
  },
  {
   "cell_type": "code",
   "execution_count": 38,
   "id": "7900678d-fa73-4c1e-aa7e-b2e368360538",
   "metadata": {},
   "outputs": [
    {
     "data": {
      "text/plain": [
       "[0, 1, 2, 3, 4, 5, 6, 7, 8, 9]"
      ]
     },
     "execution_count": 38,
     "metadata": {},
     "output_type": "execute_result"
    }
   ],
   "source": [
    "#  range (start,stop,step)\n",
    "x=list(range(10))\n",
    "x"
   ]
  },
  {
   "cell_type": "code",
   "execution_count": 39,
   "id": "22e7f114-1f5b-40e7-8296-e1d6267b3644",
   "metadata": {},
   "outputs": [
    {
     "data": {
      "text/plain": [
       "[0, 2, 4, 6, 8]"
      ]
     },
     "execution_count": 39,
     "metadata": {},
     "output_type": "execute_result"
    }
   ],
   "source": [
    "x=list(range(0,10,2))\n",
    "x"
   ]
  },
  {
   "cell_type": "code",
   "execution_count": 40,
   "id": "b80ff04b-63b9-49ad-b559-37c5cae72286",
   "metadata": {},
   "outputs": [
    {
     "data": {
      "text/plain": [
       "2"
      ]
     },
     "execution_count": 40,
     "metadata": {},
     "output_type": "execute_result"
    }
   ],
   "source": [
    "# len()\n",
    "x= [[1,3],[2,4]]\n",
    "len(x)"
   ]
  },
  {
   "cell_type": "code",
   "execution_count": 41,
   "id": "8ce4a8cf-f7ec-4ba6-b106-b6d0bff6069d",
   "metadata": {},
   "outputs": [
    {
     "data": {
      "text/plain": [
       "4"
      ]
     },
     "execution_count": 41,
     "metadata": {},
     "output_type": "execute_result"
    }
   ],
   "source": [
    "y = [1,2,3,4]\n",
    "len(y)"
   ]
  },
  {
   "cell_type": "code",
   "execution_count": 46,
   "id": "2b6cff31-71f2-4bce-b745-e9f8d84a6ae2",
   "metadata": {},
   "outputs": [
    {
     "data": {
      "text/plain": [
       "[[1, 3], [2, 4], [1, 2, 3, 4]]"
      ]
     },
     "execution_count": 46,
     "metadata": {},
     "output_type": "execute_result"
    }
   ],
   "source": [
    "# concatenation\n",
    "x= [[1,3],[2,4]]\n",
    "y = [[1,2,3,4]]\n",
    "conc_list = x + y\n",
    "conc_list"
   ]
  },
  {
   "cell_type": "code",
   "execution_count": 45,
   "id": "e684d1d3-01b4-4319-8e76-1ccae7eaa880",
   "metadata": {},
   "outputs": [
    {
     "data": {
      "text/plain": [
       "[[1, 3], [2, 4], [1, 3], [2, 4], [1, 3], [2, 4], [1, 3], [2, 4]]"
      ]
     },
     "execution_count": 45,
     "metadata": {},
     "output_type": "execute_result"
    }
   ],
   "source": [
    "# repeatition\n",
    "x= [[1,3],[2,4]] * 4\n",
    "x"
   ]
  },
  {
   "cell_type": "code",
   "execution_count": 59,
   "id": "6a7c9a7b-e879-451e-bd71-7c0166903286",
   "metadata": {},
   "outputs": [
    {
     "data": {
      "text/plain": [
       "[[1, 3], [2, 4], [2, 9]]"
      ]
     },
     "execution_count": 59,
     "metadata": {},
     "output_type": "execute_result"
    }
   ],
   "source": [
    "# Append\n",
    "x= [[1,3],[2,4]]\n",
    "z= [2,9]\n",
    "z\n",
    "hy = x.append(z) # can't capture the whole list just appending only\n",
    "#print(hy)\n",
    "x"
   ]
  },
  {
   "cell_type": "code",
   "execution_count": 61,
   "id": "8ab2c047-8167-4dd8-aef3-1ef2a6656a26",
   "metadata": {},
   "outputs": [
    {
     "data": {
      "text/plain": [
       "[[1, 3], [2, 4], 2, 9]"
      ]
     },
     "execution_count": 61,
     "metadata": {},
     "output_type": "execute_result"
    }
   ],
   "source": [
    "# Extend put list into another list\n",
    "x= [[1,3],[2,4]]\n",
    "z= [2,9]\n",
    "x.extend(z)\n",
    "x\n"
   ]
  },
  {
   "cell_type": "markdown",
   "id": "f68988c9-151e-4582-9d50-a3939b2d1a7f",
   "metadata": {},
   "source": [
    "# set"
   ]
  },
  {
   "cell_type": "code",
   "execution_count": 78,
   "id": "d536937b-6e95-44e8-929e-38611941f40d",
   "metadata": {},
   "outputs": [
    {
     "name": "stdout",
     "output_type": "stream",
     "text": [
      "alpha_set: {'a', 'b', 'c', 'd'}\n",
      "set2: {'b', 's', 'd'}\n",
      "{'a', 'c'}\n",
      "{'s'}\n",
      "{'a', 'b', 'd', 'c', 's'}\n",
      "{'b', 'd'}\n",
      "False\n"
     ]
    }
   ],
   "source": [
    "# set\n",
    "alpha_set , set2= set('abcd'), set('sbds')\n",
    "print('alpha_set:',alpha_set)\n",
    "print('set2:',set2)\n",
    "print(alpha_set - set2)# the one in alphaset not in set1\n",
    "print(set2 - alpha_set)\n",
    "print(alpha_set | set2)\n",
    "print(alpha_set & set2)\n",
    "print('s' in alpha_set )"
   ]
  },
  {
   "cell_type": "code",
   "execution_count": 84,
   "id": "a96eeda9-dc27-4174-9b53-3ced914acb65",
   "metadata": {},
   "outputs": [
    {
     "name": "stdout",
     "output_type": "stream",
     "text": [
      "<class 'dict_keys'>\n",
      "dict_values(['Jean', 25, 70, 1.75])\n"
     ]
    }
   ],
   "source": [
    "x = {'name': 'Jean', 'age': 25, 'weight': 70, 'height': 1.75}\n",
    "print(type(x.keys()))\n",
    "print(x.values())"
   ]
  },
  {
   "cell_type": "code",
   "execution_count": 85,
   "id": "81662f61-11ad-47f3-b1c1-d9fb734300dc",
   "metadata": {},
   "outputs": [
    {
     "name": "stdout",
     "output_type": "stream",
     "text": [
      "Jean\n"
     ]
    }
   ],
   "source": [
    "print(x['name'])"
   ]
  },
  {
   "cell_type": "code",
   "execution_count": 92,
   "id": "2b4b201a-bb84-4a1a-a955-0eb211c94987",
   "metadata": {},
   "outputs": [
    {
     "name": "stdout",
     "output_type": "stream",
     "text": [
      "<class 'list'>\n",
      "[65, 1.8]\n"
     ]
    }
   ],
   "source": [
    "x = {'Jean': [25, 70, 1.75], 'Paul': [30, 65, 1.80]}\n",
    "print(type(x['Paul']))# list\n",
    "print((x['Paul'][1:]))"
   ]
  },
  {
   "cell_type": "code",
   "execution_count": 112,
   "id": "a5b1a81f-20ac-42c6-852f-4add0f4b25e3",
   "metadata": {},
   "outputs": [
    {
     "data": {
      "text/plain": [
       "{'language': ['Python']}"
      ]
     },
     "execution_count": 112,
     "metadata": {},
     "output_type": "execute_result"
    }
   ],
   "source": [
    "# Empty dictionary\n",
    "x= dict() # or {}\n",
    "x['name'] = 'Aline'\n",
    "x['course']=['Python','PP.']\n",
    "x['course'][1] ='PPS'\n",
    "x\n",
    "\n",
    "# delete\n",
    "#del x\n",
    "del x['name']\n",
    "x\n",
    "\n",
    "del x['course'][1]\n",
    "x\n",
    "\n",
    "# rename key with  pop\n",
    "x['language'] =x.pop('course')\n",
    "x"
   ]
  },
  {
   "cell_type": "code",
   "execution_count": null,
   "id": "a17bb421-bd39-4349-8b51-7a085e430d52",
   "metadata": {},
   "outputs": [],
   "source": [
    "\n"
   ]
  }
 ],
 "metadata": {
  "kernelspec": {
   "display_name": "Python 3 (ipykernel)",
   "language": "python",
   "name": "python3"
  },
  "language_info": {
   "codemirror_mode": {
    "name": "ipython",
    "version": 3
   },
   "file_extension": ".py",
   "mimetype": "text/x-python",
   "name": "python",
   "nbconvert_exporter": "python",
   "pygments_lexer": "ipython3",
   "version": "3.11.7"
  }
 },
 "nbformat": 4,
 "nbformat_minor": 5
}
