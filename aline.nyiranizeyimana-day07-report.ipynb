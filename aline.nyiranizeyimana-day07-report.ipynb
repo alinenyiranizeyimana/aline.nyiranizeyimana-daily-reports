{
 "cells": [
  {
   "cell_type": "markdown",
   "id": "e512f20b-76f5-4ab1-b981-c034b8d19bf3",
   "metadata": {},
   "source": [
    "## Functions\n",
    "\n",
    "e.g `print` and `input`"
   ]
  },
  {
   "cell_type": "markdown",
   "id": "3dd95fe0-6de4-4b56-b98e-44ce64e14ba3",
   "metadata": {},
   "source": [
    "### User defined function"
   ]
  },
  {
   "cell_type": "markdown",
   "id": "81b9b90c-260f-48df-b2b9-6233be018636",
   "metadata": {},
   "source": [
    "```python\n",
    "def fname([par1, par2,...,parn]):\n",
    "    statements <block of instructions>\n",
    "```"
   ]
  },
  {
   "cell_type": "code",
   "execution_count": 4,
   "id": "b72bdde3-d389-44ef-b7d7-109666bed3b4",
   "metadata": {},
   "outputs": [
    {
     "name": "stdout",
     "output_type": "stream",
     "text": [
      "0 * 8 = 0\n",
      "1 * 8 = 8\n",
      "2 * 8 = 16\n",
      "3 * 8 = 24\n",
      "4 * 8 = 32\n",
      "5 * 8 = 40\n",
      "6 * 8 = 48\n",
      "7 * 8 = 56\n",
      "8 * 8 = 64\n",
      "9 * 8 = 72\n",
      "10 * 8 = 80\n"
     ]
    }
   ],
   "source": [
    "def Multiply_table_8():\n",
    "    n= 0\n",
    "    while (n<=10):\n",
    "        mul = n*8;\n",
    "        print(f\"{n} * 8 = {mul}\")\n",
    "        n +=1\n",
    "\n",
    "Multiply_table_8()"
   ]
  },
  {
   "cell_type": "code",
   "execution_count": 13,
   "id": "3682f224-8dcd-43e8-a49b-7b170fde4a40",
   "metadata": {},
   "outputs": [
    {
     "name": "stdin",
     "output_type": "stream",
     "text": [
      "Enter a number to find its a multiplication table: 4\n"
     ]
    },
    {
     "name": "stdout",
     "output_type": "stream",
     "text": [
      " 0 *  4 =   0\n",
      " 1 *  4 =   4\n",
      " 2 *  4 =   8\n",
      " 3 *  4 =  12\n",
      " 4 *  4 =  16\n",
      " 5 *  4 =  20\n",
      " 6 *  4 =  24\n",
      " 7 *  4 =  28\n",
      " 8 *  4 =  32\n",
      " 9 *  4 =  36\n"
     ]
    }
   ],
   "source": [
    "def Multiply_table(num):\n",
    "    for i in range(10):\n",
    "        mul = i*num\n",
    "        print(f\"{i:2} * {num:2} = {mul:3}\") # :.. puting the tabs(spaces) infront of that value\n",
    "\n",
    "number = int(input(\"Enter a number to find its a multiplication table:\"))\n",
    "Multiply_table(number)"
   ]
  },
  {
   "cell_type": "markdown",
   "id": "6ea5eb4c-4e20-4306-b226-080e8e72538e",
   "metadata": {},
   "source": [
    "## One parameter with return \n",
    "\n",
    "* Application: $$f(g(x))$$"
   ]
  },
  {
   "cell_type": "code",
   "execution_count": 18,
   "id": "1c5f1fb5-c7a5-483d-898a-4674bafca9ee",
   "metadata": {},
   "outputs": [
    {
     "name": "stdin",
     "output_type": "stream",
     "text": [
      "Enter side of square: 2\n"
     ]
    },
    {
     "name": "stdout",
     "output_type": "stream",
     "text": [
      "Area of square whose side is 2.0 is equal 4.0\n"
     ]
    }
   ],
   "source": [
    "def return_square(side):\n",
    "\n",
    "    # to be returned when want to know about the function\n",
    "    '''\n",
    "    Area of square\n",
    "    Input: side parameter\n",
    "    Output: return area of sqaure\n",
    "    '''\n",
    "    return side** 2\n",
    "\n",
    "side_input = float(input(\"Enter side of square:\"))\n",
    "\n",
    "area_square = return_square(side_input)\n",
    "\n",
    "print(f\"Area of square whose side is {side_input} is equal {area_square}\")"
   ]
  },
  {
   "cell_type": "code",
   "execution_count": 19,
   "id": "406e4c93-113c-40fb-8b7e-0829dcfc812f",
   "metadata": {},
   "outputs": [
    {
     "name": "stdout",
     "output_type": "stream",
     "text": [
      "Help on function return_square in module __main__:\n",
      "\n",
      "return_square(side)\n",
      "    Area of square\n",
      "    Input: side parameter\n",
      "    Output: return area of sqaure\n",
      "\n"
     ]
    }
   ],
   "source": [
    "help(return_square)"
   ]
  },
  {
   "cell_type": "markdown",
   "id": "5993b6be-b1fb-4af9-9532-d703039b69f2",
   "metadata": {},
   "source": [
    "### Multiple return\n"
   ]
  },
  {
   "cell_type": "code",
   "execution_count": 22,
   "id": "abdf97af-cb79-4748-9eac-57e578022ba5",
   "metadata": {},
   "outputs": [
    {
     "name": "stdin",
     "output_type": "stream",
     "text": [
      "Enter length: 2\n",
      "Enter width: 3\n"
     ]
    },
    {
     "name": "stdout",
     "output_type": "stream",
     "text": [
      "Area is:6.0 and Perimeter is: 10.0\n"
     ]
    }
   ],
   "source": [
    "def perimeter_area_rectangle(length, width):\n",
    "    '''\n",
    "    Area and perimeter of rectangle\n",
    "    Input: length and width parameter\n",
    "    Output: return area and perimeter of rectangle\n",
    "    '''\n",
    "    area= length * width\n",
    "    perimeter= 2* (length + width)\n",
    "    return area, perimeter\n",
    "\n",
    "length = float(input(\"Enter length:\"))\n",
    "width = float(input(\"Enter width:\"))\n",
    "\n",
    "area, perimeter= perimeter_area_rectangle(length, width)\n",
    "print(f\"Area is:{area} and Perimeter is: {perimeter}\")"
   ]
  },
  {
   "cell_type": "code",
   "execution_count": null,
   "id": "97cbafce-3fa5-4ecd-9d56-8b132f70e8e4",
   "metadata": {},
   "outputs": [],
   "source": []
  }
 ],
 "metadata": {
  "kernelspec": {
   "display_name": "Python 3 (ipykernel)",
   "language": "python",
   "name": "python3"
  },
  "language_info": {
   "codemirror_mode": {
    "name": "ipython",
    "version": 3
   },
   "file_extension": ".py",
   "mimetype": "text/x-python",
   "name": "python",
   "nbconvert_exporter": "python",
   "pygments_lexer": "ipython3",
   "version": "3.11.7"
  }
 },
 "nbformat": 4,
 "nbformat_minor": 5
}
